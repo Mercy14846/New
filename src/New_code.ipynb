pip install numpy
import numpy as np
pip install matplotlib
import matplotlib as mpl
import matplotlib.pyplot as plt
N = 300
x = np.random.rand(N)
y = np.random.rand(N)
colour = np.random.rand(N)
area = 10 * (10 * np.random.rand(N))** 2
plt.scatter(x, y, colour=c, area=s, alpha=0.5)
plt.show()

